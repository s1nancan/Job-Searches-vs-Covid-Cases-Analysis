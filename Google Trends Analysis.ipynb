{
 "cells": [
  {
   "cell_type": "code",
   "execution_count": 1,
   "metadata": {},
   "outputs": [
    {
     "name": "stdout",
     "output_type": "stream",
     "text": [
      "Collecting pytrends\n",
      "  Downloading pytrends-4.7.3-py3-none-any.whl (14 kB)\n",
      "Requirement already satisfied: lxml in /Users/apple/anaconda3/lib/python3.7/site-packages (from pytrends) (4.3.0)\n",
      "Collecting pandas>=0.25\n",
      "  Using cached pandas-1.1.4-cp37-cp37m-macosx_10_9_x86_64.whl (9.9 MB)\n",
      "Requirement already satisfied: requests in /Users/apple/anaconda3/lib/python3.7/site-packages (from pytrends) (2.21.0)\n",
      "Requirement already satisfied: pytz>=2017.2 in /Users/apple/anaconda3/lib/python3.7/site-packages (from pandas>=0.25->pytrends) (2018.9)\n",
      "Requirement already satisfied: numpy>=1.15.4 in /Users/apple/anaconda3/lib/python3.7/site-packages (from pandas>=0.25->pytrends) (1.17.2)\n",
      "Requirement already satisfied: python-dateutil>=2.7.3 in /Users/apple/anaconda3/lib/python3.7/site-packages (from pandas>=0.25->pytrends) (2.8.1)\n",
      "Requirement already satisfied: certifi>=2017.4.17 in /Users/apple/anaconda3/lib/python3.7/site-packages (from requests->pytrends) (2020.6.20)\n",
      "Requirement already satisfied: urllib3<1.25,>=1.21.1 in /Users/apple/anaconda3/lib/python3.7/site-packages (from requests->pytrends) (1.24.1)\n",
      "Requirement already satisfied: idna<2.9,>=2.5 in /Users/apple/anaconda3/lib/python3.7/site-packages (from requests->pytrends) (2.8)\n",
      "Requirement already satisfied: chardet<3.1.0,>=3.0.2 in /Users/apple/anaconda3/lib/python3.7/site-packages (from requests->pytrends) (3.0.4)\n",
      "Requirement already satisfied: six>=1.5 in /Users/apple/anaconda3/lib/python3.7/site-packages (from python-dateutil>=2.7.3->pandas>=0.25->pytrends) (1.12.0)\n",
      "Installing collected packages: pandas, pytrends\n",
      "  Attempting uninstall: pandas\n",
      "    Found existing installation: pandas 0.24.1\n",
      "    Uninstalling pandas-0.24.1:\n",
      "      Successfully uninstalled pandas-0.24.1\n",
      "\u001b[31mERROR: After October 2020 you may experience errors when installing or updating packages. This is because pip will change the way that it resolves dependency conflicts.\n",
      "\n",
      "We recommend you use --use-feature=2020-resolver to test your packages with the new resolver before it becomes the default.\n",
      "\n",
      "lifelines 0.17.0 requires matplotlib<3.0,>=2.0, but you'll have matplotlib 3.0.2 which is incompatible.\u001b[0m\n",
      "Successfully installed pandas-1.1.4 pytrends-4.7.3\n"
     ]
    }
   ],
   "source": [
    "#!pip install pytrends"
   ]
  },
  {
   "cell_type": "code",
   "execution_count": 73,
   "metadata": {},
   "outputs": [],
   "source": [
    "import matplotlib.pyplot as plt"
   ]
  },
  {
   "cell_type": "code",
   "execution_count": 2,
   "metadata": {},
   "outputs": [],
   "source": [
    "import pandas as pd                        \n",
    "from pytrends.request import TrendReq\n",
    "pytrend = TrendReq()"
   ]
  },
  {
   "cell_type": "code",
   "execution_count": 167,
   "metadata": {},
   "outputs": [],
   "source": [
    "import matplotlib.pyplot as plt\n",
    "\n",
    "SMALL_SIZE = 14\n",
    "MEDIUM_SIZE = 16\n",
    "BIGGER_SIZE = 18\n",
    "\n",
    "plt.rc('font', size=SMALL_SIZE)          # controls default text sizes\n",
    "plt.rc('axes', titlesize=SMALL_SIZE)     # fontsize of the axes title\n",
    "plt.rc('axes', labelsize=MEDIUM_SIZE)    # fontsize of the x and y labels\n",
    "plt.rc('xtick', labelsize=SMALL_SIZE)    # fontsize of the tick labels\n",
    "plt.rc('ytick', labelsize=SMALL_SIZE)    # fontsize of the tick labels\n",
    "plt.rc('legend', fontsize=SMALL_SIZE)    # legend fontsize\n",
    "plt.rc('figure', titlesize=BIGGER_SIZE)  # fontsize of the figure title"
   ]
  },
  {
   "cell_type": "markdown",
   "metadata": {},
   "source": [
    "### Interest Over Time"
   ]
  },
  {
   "cell_type": "code",
   "execution_count": null,
   "metadata": {},
   "outputs": [],
   "source": [
    "# Get the keyword set to load data"
   ]
  },
  {
   "cell_type": "code",
   "execution_count": 197,
   "metadata": {},
   "outputs": [],
   "source": [
    "pytrend.build_payload(kw_list=['make money online'])"
   ]
  },
  {
   "cell_type": "code",
   "execution_count": 198,
   "metadata": {},
   "outputs": [],
   "source": [
    "# Related Queries, returns a dictionary of dataframes\n",
    "related_queries_dict = pytrend.related_queries()\n",
    "#print(related_queries_dict)"
   ]
  },
  {
   "cell_type": "code",
   "execution_count": 199,
   "metadata": {},
   "outputs": [
    {
     "data": {
      "text/plain": [
       "{'make money online': {'top':                             query  value\n",
       "  0                             how    100\n",
       "  1                  how make money    100\n",
       "  2           how make money online     99\n",
       "  3               how to make money     93\n",
       "  4                     how to make     92\n",
       "  5        how to make money online     92\n",
       "  6       ways to make money online     17\n",
       "  7              ways to make money     17\n",
       "  8           gta online make money     15\n",
       "  9                      gta online     15\n",
       "  10                    online jobs     12\n",
       "  11         make money online free     12\n",
       "  12              free money online     11\n",
       "  13         make money online fast     11\n",
       "  14                make money fast     11\n",
       "  15       way to make money online     10\n",
       "  16        make money gta 5 online      9\n",
       "  17                     earn money      8\n",
       "  18              earn money online      8\n",
       "  19   how to make money gta online      8\n",
       "  20        how i make money online      8\n",
       "  21    make money from home online      8\n",
       "  22           make money from home      8\n",
       "  23         how to make money fast      7\n",
       "  24  how to make money online fast      7,\n",
       "  'rising':                                                query  value\n",
       "  0                             make money online 2020  95350\n",
       "  1                      how to make money online 2019  48400\n",
       "  2                      how to make money online 2018  45450\n",
       "  3                      how to make money rdr2 online  26750\n",
       "  4                 rdr2 online best way to make money  17100\n",
       "  5                   how to make money in rdr2 online  12000\n",
       "  6                             make money online 2018  11950\n",
       "  7                     ways to make money online 2019  11350\n",
       "  8                         make money red dead online   4300\n",
       "  9              best way to make money in rdr2 online   4200\n",
       "  10                 how to make money red dead online   2250\n",
       "  11                            make money online 2016   2100\n",
       "  12              how to make money in red dead online   1700\n",
       "  13  best url shorteners to make money online in 2019   1200\n",
       "  14                                      jobs near me   1000\n",
       "  15                                           shopify    650\n",
       "  16  how to make money online without paying anything    550\n",
       "  17            gta online best way to make money solo    500\n",
       "  18                          reddit make money online    450\n",
       "  19            how to make money in gta 5 online solo    450\n",
       "  20                    how to make money on instagram    450\n",
       "  21            how to make money online for beginners    400\n",
       "  22                                           bitcoin    300\n",
       "  23                 how to make money online in kenya    200\n",
       "  24                                     inbox dollars    200}}"
      ]
     },
     "execution_count": 199,
     "metadata": {},
     "output_type": "execute_result"
    }
   ],
   "source": [
    "related_queries_dict"
   ]
  },
  {
   "cell_type": "code",
   "execution_count": 48,
   "metadata": {},
   "outputs": [],
   "source": [
    "## GET THE TIME DEPENDENT DATA FOR THE ONLINE MONEY MAKING"
   ]
  },
  {
   "cell_type": "code",
   "execution_count": 200,
   "metadata": {},
   "outputs": [],
   "source": [
    "keywords = ['online ways to make money','online jobs','make money online free',\n",
    "                              'way to make money online','make fast money online','earn money online',\n",
    "            'make money from home online','apply jobs']"
   ]
  },
  {
   "cell_type": "code",
   "execution_count": 201,
   "metadata": {},
   "outputs": [
    {
     "name": "stderr",
     "output_type": "stream",
     "text": [
      "/Users/apple/anaconda3/lib/python3.7/site-packages/pandas/core/computation/expr.py:631: FutureWarning: The pandas.datetime class is deprecated and will be removed from pandas in a future version. Import from datetime module instead.\n",
      "  v = getattr(resolved, attr)\n"
     ]
    }
   ],
   "source": [
    "keyword = 'make money online'\n",
    "pytrend.build_payload(kw_list=[keyword])\n",
    "time_df = pytrend.interest_over_time()[keyword].reset_index().query('date>@pd.datetime(2019,1,1)')"
   ]
  },
  {
   "cell_type": "code",
   "execution_count": 202,
   "metadata": {},
   "outputs": [],
   "source": [
    "for keyword in keywords:\n",
    "    pytrend.build_payload(kw_list=[keyword])\n",
    "    new_results = pytrend.interest_over_time()[keyword].reset_index().query('date>@pd.datetime(2020,1,1)')\n",
    "    time_df = time_df.merge(new_results, on='date')"
   ]
  },
  {
   "cell_type": "code",
   "execution_count": 203,
   "metadata": {},
   "outputs": [
    {
     "data": {
      "text/html": [
       "<div>\n",
       "<style scoped>\n",
       "    .dataframe tbody tr th:only-of-type {\n",
       "        vertical-align: middle;\n",
       "    }\n",
       "\n",
       "    .dataframe tbody tr th {\n",
       "        vertical-align: top;\n",
       "    }\n",
       "\n",
       "    .dataframe thead th {\n",
       "        text-align: right;\n",
       "    }\n",
       "</style>\n",
       "<table border=\"1\" class=\"dataframe\">\n",
       "  <thead>\n",
       "    <tr style=\"text-align: right;\">\n",
       "      <th></th>\n",
       "      <th>date</th>\n",
       "      <th>make money online</th>\n",
       "      <th>online ways to make money</th>\n",
       "      <th>online jobs</th>\n",
       "      <th>make money online free</th>\n",
       "      <th>way to make money online</th>\n",
       "      <th>make fast money online</th>\n",
       "      <th>earn money online</th>\n",
       "      <th>make money from home online</th>\n",
       "      <th>apply jobs</th>\n",
       "    </tr>\n",
       "  </thead>\n",
       "  <tbody>\n",
       "    <tr>\n",
       "      <th>0</th>\n",
       "      <td>2020-01-05</td>\n",
       "      <td>80</td>\n",
       "      <td>67</td>\n",
       "      <td>86</td>\n",
       "      <td>59</td>\n",
       "      <td>50</td>\n",
       "      <td>69</td>\n",
       "      <td>59</td>\n",
       "      <td>60</td>\n",
       "      <td>95</td>\n",
       "    </tr>\n",
       "    <tr>\n",
       "      <th>1</th>\n",
       "      <td>2020-01-12</td>\n",
       "      <td>76</td>\n",
       "      <td>62</td>\n",
       "      <td>70</td>\n",
       "      <td>50</td>\n",
       "      <td>60</td>\n",
       "      <td>59</td>\n",
       "      <td>59</td>\n",
       "      <td>41</td>\n",
       "      <td>89</td>\n",
       "    </tr>\n",
       "    <tr>\n",
       "      <th>2</th>\n",
       "      <td>2020-01-19</td>\n",
       "      <td>75</td>\n",
       "      <td>58</td>\n",
       "      <td>71</td>\n",
       "      <td>44</td>\n",
       "      <td>58</td>\n",
       "      <td>61</td>\n",
       "      <td>54</td>\n",
       "      <td>55</td>\n",
       "      <td>90</td>\n",
       "    </tr>\n",
       "    <tr>\n",
       "      <th>3</th>\n",
       "      <td>2020-01-26</td>\n",
       "      <td>71</td>\n",
       "      <td>66</td>\n",
       "      <td>68</td>\n",
       "      <td>48</td>\n",
       "      <td>53</td>\n",
       "      <td>53</td>\n",
       "      <td>57</td>\n",
       "      <td>45</td>\n",
       "      <td>79</td>\n",
       "    </tr>\n",
       "    <tr>\n",
       "      <th>4</th>\n",
       "      <td>2020-02-02</td>\n",
       "      <td>66</td>\n",
       "      <td>60</td>\n",
       "      <td>69</td>\n",
       "      <td>48</td>\n",
       "      <td>65</td>\n",
       "      <td>50</td>\n",
       "      <td>54</td>\n",
       "      <td>43</td>\n",
       "      <td>83</td>\n",
       "    </tr>\n",
       "  </tbody>\n",
       "</table>\n",
       "</div>"
      ],
      "text/plain": [
       "        date  make money online  online ways to make money  online jobs  \\\n",
       "0 2020-01-05                 80                         67           86   \n",
       "1 2020-01-12                 76                         62           70   \n",
       "2 2020-01-19                 75                         58           71   \n",
       "3 2020-01-26                 71                         66           68   \n",
       "4 2020-02-02                 66                         60           69   \n",
       "\n",
       "   make money online free  way to make money online  make fast money online  \\\n",
       "0                      59                        50                      69   \n",
       "1                      50                        60                      59   \n",
       "2                      44                        58                      61   \n",
       "3                      48                        53                      53   \n",
       "4                      48                        65                      50   \n",
       "\n",
       "   earn money online  make money from home online  apply jobs  \n",
       "0                 59                           60          95  \n",
       "1                 59                           41          89  \n",
       "2                 54                           55          90  \n",
       "3                 57                           45          79  \n",
       "4                 54                           43          83  "
      ]
     },
     "execution_count": 203,
     "metadata": {},
     "output_type": "execute_result"
    }
   ],
   "source": [
    "time_df.head()"
   ]
  },
  {
   "cell_type": "code",
   "execution_count": 204,
   "metadata": {},
   "outputs": [],
   "source": [
    "keywords.append('make money online')"
   ]
  },
  {
   "cell_type": "code",
   "execution_count": 205,
   "metadata": {},
   "outputs": [
    {
     "data": {
      "text/html": [
       "<div>\n",
       "<style scoped>\n",
       "    .dataframe tbody tr th:only-of-type {\n",
       "        vertical-align: middle;\n",
       "    }\n",
       "\n",
       "    .dataframe tbody tr th {\n",
       "        vertical-align: top;\n",
       "    }\n",
       "\n",
       "    .dataframe thead th {\n",
       "        text-align: right;\n",
       "    }\n",
       "</style>\n",
       "<table border=\"1\" class=\"dataframe\">\n",
       "  <thead>\n",
       "    <tr style=\"text-align: right;\">\n",
       "      <th></th>\n",
       "      <th>date</th>\n",
       "      <th>Make Money Online</th>\n",
       "    </tr>\n",
       "  </thead>\n",
       "  <tbody>\n",
       "    <tr>\n",
       "      <th>0</th>\n",
       "      <td>2020-01-05</td>\n",
       "      <td>69.444444</td>\n",
       "    </tr>\n",
       "    <tr>\n",
       "      <th>1</th>\n",
       "      <td>2020-01-12</td>\n",
       "      <td>62.888889</td>\n",
       "    </tr>\n",
       "    <tr>\n",
       "      <th>2</th>\n",
       "      <td>2020-01-19</td>\n",
       "      <td>62.888889</td>\n",
       "    </tr>\n",
       "    <tr>\n",
       "      <th>3</th>\n",
       "      <td>2020-01-26</td>\n",
       "      <td>60.000000</td>\n",
       "    </tr>\n",
       "    <tr>\n",
       "      <th>4</th>\n",
       "      <td>2020-02-02</td>\n",
       "      <td>59.777778</td>\n",
       "    </tr>\n",
       "  </tbody>\n",
       "</table>\n",
       "</div>"
      ],
      "text/plain": [
       "        date  Make Money Online\n",
       "0 2020-01-05          69.444444\n",
       "1 2020-01-12          62.888889\n",
       "2 2020-01-19          62.888889\n",
       "3 2020-01-26          60.000000\n",
       "4 2020-02-02          59.777778"
      ]
     },
     "execution_count": 205,
     "metadata": {},
     "output_type": "execute_result"
    }
   ],
   "source": [
    "time_df_avg= time_df.set_index('date').mean(axis=1).reset_index().rename(columns = {0:'Make Money Online'})\n",
    "time_df_avg.head()"
   ]
  },
  {
   "cell_type": "code",
   "execution_count": 206,
   "metadata": {},
   "outputs": [
    {
     "data": {
      "text/plain": [
       "<matplotlib.axes._subplots.AxesSubplot at 0x127af1eb8>"
      ]
     },
     "execution_count": 206,
     "metadata": {},
     "output_type": "execute_result"
    },
    {
     "data": {
      "image/png": "[encoded data removed]",
      "text/plain": [
       "<Figure size 432x288 with 1 Axes>"
      ]
     },
     "metadata": {
      "needs_background": "light"
     },
     "output_type": "display_data"
    }
   ],
   "source": [
    "fig, ax = plt.subplots()\n",
    "time_df.plot(ax=ax, x='date',y='online jobs')"
   ]
  },
  {
   "cell_type": "code",
   "execution_count": 207,
   "metadata": {},
   "outputs": [],
   "source": [
    "# Get the search for physical jobs\n",
    "keyword = 'find jobs near me'\n",
    "pytrend.build_payload(kw_list=[keyword])\n",
    "interest_over_time_df = pytrend.interest_over_time()"
   ]
  },
  {
   "cell_type": "markdown",
   "metadata": {},
   "source": [
    "## LOAD CORONA DATA FROM \n",
    "https://covidtracking.com/data/download"
   ]
  },
  {
   "cell_type": "code",
   "execution_count": 210,
   "metadata": {},
   "outputs": [],
   "source": [
    "corona_count = pd.read_csv('national-history.csv')\n",
    "corona_count['date']= pd.to_datetime(corona_count.date)"
   ]
  },
  {
   "cell_type": "code",
   "execution_count": 213,
   "metadata": {},
   "outputs": [
    {
     "data": {
      "image/png": "[encoded data removed]",
      "text/plain": [
       "<Figure size 576x432 with 2 Axes>"
      ]
     },
     "metadata": {
      "needs_background": "light"
     },
     "output_type": "display_data"
    }
   ],
   "source": [
    "fig, ax = plt.subplots(figsize=(8,6))\n",
    "color = 'blue'\n",
    "\n",
    "ax.set_ylabel('Search Popularity', color=color)\n",
    "time_df.plot(ax=ax, x='date',y='online jobs',color=color)\n",
    "ax.set_xlabel('Date')\n",
    "ax.tick_params(axis='y', labelcolor=color)\n",
    "\n",
    "test_df.reset_index().plot(ax=ax, x='date',y='find jobs near me',color=color, linestyle='--')\n",
    "\n",
    "plt.legend(['Online Jobs','Jobs Near Me'])\n",
    "\n",
    "color='red'\n",
    "ax2 = ax.twinx()\n",
    "ax2.set_ylabel('Daily Corona Cases (x 1000)', color=color)  # we already handled the x-label with ax1\n",
    "corona_count.positiveIncrease = corona_count.positiveIncrease/1e3\n",
    "corona_count.sort_values(by='date').plot(ax=ax2, x='date',y='positiveIncrease',color=color,legend=False)\n",
    "ax2.tick_params(axis='y', labelcolor=color)\n",
    "\n",
    "ax.grid(which='major',axis='x',alpha=0.5)\n",
    "#ax.grid(which='major',axis='x',alpha=0.5)\n",
    "\n",
    "\n",
    "plt.title('Google Trends for Job Searches vs Daily Corona Cases')\n",
    "plt.xlabel('Date')\n",
    "fig.tight_layout()  # otherwise the right y-label is slightly clipped\n",
    "plt.show()\n"
   ]
  },
  {
   "cell_type": "code",
   "execution_count": null,
   "metadata": {},
   "outputs": [],
   "source": []
  }
 ],
 "metadata": {
  "kernelspec": {
   "display_name": "Python 3",
   "language": "python",
   "name": "python3"
  },
  "language_info": {
   "codemirror_mode": {
    "name": "ipython",
    "version": 3
   },
   "file_extension": ".py",
   "mimetype": "text/x-python",
   "name": "python",
   "nbconvert_exporter": "python",
   "pygments_lexer": "ipython3",
   "version": "3.7.2"
  }
 },
 "nbformat": 4,
 "nbformat_minor": 2
}
